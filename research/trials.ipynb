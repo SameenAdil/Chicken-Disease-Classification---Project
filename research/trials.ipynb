{
 "cells": [
  {
   "cell_type": "markdown",
   "id": "3f66401b",
   "metadata": {},
   "source": [
    "    ConfigBox"
   ]
  },
  {
   "cell_type": "code",
   "execution_count": 2,
   "id": "759f0b21",
   "metadata": {},
   "outputs": [],
   "source": [
    "d = {\"key1\":\"value1\", \"key2\":\"value2\"}\n"
   ]
  },
  {
   "cell_type": "code",
   "execution_count": null,
   "id": "1063acaa",
   "metadata": {},
   "outputs": [
    {
     "data": {
      "text/plain": [
       "'value2'"
      ]
     },
     "execution_count": 3,
     "metadata": {},
     "output_type": "execute_result"
    }
   ],
   "source": [
    "d['key2']   #i wnat to use d.key to access value,\n",
    "                #bcz this is easy approach\n"
   ]
  },
  {
   "cell_type": "code",
   "execution_count": null,
   "id": "618ab900",
   "metadata": {},
   "outputs": [
    {
     "ename": "AttributeError",
     "evalue": "'dict' object has no attribute 'key'",
     "output_type": "error",
     "traceback": [
      "\u001b[1;31m---------------------------------------------------------------------------\u001b[0m",
      "\u001b[1;31mAttributeError\u001b[0m                            Traceback (most recent call last)",
      "Cell \u001b[1;32mIn[4], line 1\u001b[0m\n\u001b[1;32m----> 1\u001b[0m \u001b[43md\u001b[49m\u001b[38;5;241;43m.\u001b[39;49m\u001b[43mkey\u001b[49m\n",
      "\u001b[1;31mAttributeError\u001b[0m: 'dict' object has no attribute 'key'"
     ]
    }
   ],
   "source": [
    "d.key   #but it will through an error, \n",
    "            #can solve this using ConfigBox"
   ]
  },
  {
   "cell_type": "code",
   "execution_count": 5,
   "id": "bb3e7ace",
   "metadata": {},
   "outputs": [],
   "source": [
    "from box import ConfigBox\n",
    "dd = ConfigBox({\"key1\":\"value1\", \"key2\":\"value2\"})"
   ]
  },
  {
   "cell_type": "code",
   "execution_count": 6,
   "id": "c20b96ec",
   "metadata": {},
   "outputs": [
    {
     "data": {
      "text/plain": [
       "'value2'"
      ]
     },
     "execution_count": 6,
     "metadata": {},
     "output_type": "execute_result"
    }
   ],
   "source": [
    "dd.key2"
   ]
  },
  {
   "cell_type": "markdown",
   "id": "87d59fc8",
   "metadata": {},
   "source": [
    "ensure_annotation"
   ]
  },
  {
   "cell_type": "code",
   "execution_count": 1,
   "id": "0f5b0c13",
   "metadata": {},
   "outputs": [],
   "source": [
    "def get_product(x:int, y:int)->int:\n",
    "    return x*y"
   ]
  },
  {
   "cell_type": "code",
   "execution_count": 2,
   "id": "3d80f00b",
   "metadata": {},
   "outputs": [
    {
     "data": {
      "text/plain": [
       "8"
      ]
     },
     "execution_count": 2,
     "metadata": {},
     "output_type": "execute_result"
    }
   ],
   "source": [
    "get_product(x=2, y=4)"
   ]
  },
  {
   "cell_type": "code",
   "execution_count": null,
   "id": "4a117504",
   "metadata": {},
   "outputs": [],
   "source": [
    "get_product(x=2, x='4') \n",
    "#it will provide wrong answer that will be confusing\n",
    "#that's why we use ensure_annotations\n"
   ]
  },
  {
   "cell_type": "markdown",
   "id": "abc1ebf2",
   "metadata": {},
   "source": []
  },
  {
   "cell_type": "code",
   "execution_count": null,
   "id": "877251a1",
   "metadata": {},
   "outputs": [],
   "source": [
    "from ensure import ensure_annotations"
   ]
  },
  {
   "cell_type": "code",
   "execution_count": null,
   "id": "97db321b",
   "metadata": {},
   "outputs": [],
   "source": [
    "@ensure_annotations\n",
    "def get_product(x:int, y:int)->int:\n",
    "    return x*y"
   ]
  },
  {
   "cell_type": "code",
   "execution_count": null,
   "id": "f07c693d",
   "metadata": {},
   "outputs": [],
   "source": [
    "get_product(x=2, x='4')    #provide correct error\n",
    "#if not use ensure_annotations, wrong ans will confuse\n",
    "# thats why correct error is helpful than wrong answer\n"
   ]
  },
  {
   "cell_type": "code",
   "execution_count": null,
   "id": "5099cfd7",
   "metadata": {},
   "outputs": [],
   "source": []
  }
 ],
 "metadata": {
  "kernelspec": {
   "display_name": "chicken",
   "language": "python",
   "name": "python3"
  },
  "language_info": {
   "codemirror_mode": {
    "name": "ipython",
    "version": 3
   },
   "file_extension": ".py",
   "mimetype": "text/x-python",
   "name": "python",
   "nbconvert_exporter": "python",
   "pygments_lexer": "ipython3",
   "version": "3.10.0"
  }
 },
 "nbformat": 4,
 "nbformat_minor": 5
}
