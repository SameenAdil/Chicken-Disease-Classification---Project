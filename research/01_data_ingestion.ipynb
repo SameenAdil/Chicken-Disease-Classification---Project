{
 "cells": [
  {
   "cell_type": "code",
   "execution_count": 1,
   "id": "8cc4fe8b",
   "metadata": {},
   "outputs": [],
   "source": [
    "import os"
   ]
  },
  {
   "cell_type": "code",
   "execution_count": 2,
   "id": "7422a718",
   "metadata": {},
   "outputs": [
    {
     "data": {
      "text/plain": [
       "'c:\\\\Users\\\\PAK\\\\Data Science Projects\\\\Chicken-Disease-Classification---Project\\\\research'"
      ]
     },
     "execution_count": 2,
     "metadata": {},
     "output_type": "execute_result"
    }
   ],
   "source": [
    "%pwd"
   ]
  },
  {
   "cell_type": "code",
   "execution_count": 3,
   "id": "f028f410",
   "metadata": {},
   "outputs": [],
   "source": [
    "#os.chdir(\"../\")"
   ]
  },
  {
   "cell_type": "code",
   "execution_count": 4,
   "id": "a5d2bfb0",
   "metadata": {},
   "outputs": [
    {
     "data": {
      "text/plain": [
       "'c:\\\\Users\\\\PAK\\\\Data Science Projects\\\\Chicken-Disease-Classification---Project\\\\research'"
      ]
     },
     "execution_count": 4,
     "metadata": {},
     "output_type": "execute_result"
    }
   ],
   "source": [
    "%pwd"
   ]
  },
  {
   "cell_type": "code",
   "execution_count": 5,
   "id": "61d2d152",
   "metadata": {},
   "outputs": [
    {
     "name": "stdout",
     "output_type": "stream",
     "text": [
      "C:\\Users\\PAK\\Data Science Projects\\Chicken-Disease-Classification---Project\n",
      "True\n"
     ]
    }
   ],
   "source": [
    "import os\n",
    "\n",
    "os.chdir(r\"C:\\Users\\PAK\\Data Science Projects\\Chicken-Disease-Classification---Project\")\n",
    "\n",
    "print(os.getcwd())  # should now show your project folder\n",
    "print(os.path.exists(\"config/config.yaml\"))  # should now be True ✅"
   ]
  },
  {
   "cell_type": "code",
   "execution_count": 6,
   "id": "d27db47f",
   "metadata": {},
   "outputs": [],
   "source": [
    "from dataclasses import dataclass\n",
    "from pathlib import Path\n",
    "\n",
    "\n",
    "@dataclass(frozen=True)\n",
    "class DataIngestionConfig:\n",
    "    root_dir: Path\n",
    "    source_URL: str\n",
    "    local_data_file: Path\n",
    "    unzip_dir: Path"
   ]
  },
  {
   "cell_type": "code",
   "execution_count": 7,
   "id": "489f5137",
   "metadata": {},
   "outputs": [],
   "source": [
    "from cnnClassifier.constants import *\n",
    "from cnnClassifier.utils.common import read_yaml, create_directories"
   ]
  },
  {
   "cell_type": "code",
   "execution_count": 8,
   "id": "0105b058",
   "metadata": {},
   "outputs": [
    {
     "data": {
      "text/plain": [
       "'YAML structure\\t  Python type after reading\\n. Key–value pairs\\t                    dict\\n      . List\\t                        list\\n   . Single value\\t           int, float, str, etc.\\n  .  Nested YAML\\t       nested combination of dict + list'"
      ]
     },
     "execution_count": 8,
     "metadata": {},
     "output_type": "execute_result"
    }
   ],
   "source": [
    "# just for understanding\n",
    "'''\n",
    "for example\n",
    "result = read_yaml(PARAMS_FILE_PATH)\n",
    "print(type(result))\n",
    "'''\n",
    "\n",
    "\n",
    "#read_yaml always read data in key-value pair.. not always\n",
    "#when read_yaml return object(class), use dot notation to access its attributes\n",
    "#when return dict(function), use square bracket[]\n",
    "\"\"\"YAML structure\t  Python type after reading\n",
    ". Key–value pairs\t                    dict\n",
    "      . List\t                        list\n",
    "   . Single value\t           int, float, str, etc.\n",
    "  .  Nested YAML\t       nested combination of dict + list\"\"\""
   ]
  },
  {
   "cell_type": "code",
   "execution_count": 9,
   "id": "1818d63e",
   "metadata": {},
   "outputs": [
    {
     "data": {
      "text/plain": [
       "'\\nimport yaml\\n\\ndef read_yaml(filepath):\\n    with open(filepath, \\'r\\') as f:\\n        content = yaml.safe_load(f)\\n    return content\\n\\ndata = read_yaml(\"example.yaml\")\\nprint(data)\\nprint(type(data))                 '"
      ]
     },
     "execution_count": 9,
     "metadata": {},
     "output_type": "execute_result"
    }
   ],
   "source": [
    "#example:    key:value   its a yaml file content, \n",
    "# how read_yaml function read this yaml file content\n",
    "\n",
    "\"\"\"\n",
    "import yaml\n",
    "\n",
    "def read_yaml(filepath):\n",
    "    with open(filepath, 'r') as f:\n",
    "        content = yaml.safe_load(f)\n",
    "    return content\n",
    "\n",
    "data = read_yaml(\"example.yaml\")\n",
    "print(data)\n",
    "print(type(data))                 \"\"\""
   ]
  },
  {
   "cell_type": "code",
   "execution_count": 10,
   "id": "d24be51d",
   "metadata": {},
   "outputs": [
    {
     "name": "stdout",
     "output_type": "stream",
     "text": [
      "C:\\Users\\PAK\\Data Science Projects\\Chicken-Disease-Classification---Project\n",
      "True\n"
     ]
    }
   ],
   "source": [
    "\n",
    "print(os.getcwd())  # shows your current working directory\n",
    "print(os.path.exists(\"config/config.yaml\"))"
   ]
  },
  {
   "cell_type": "code",
   "execution_count": 11,
   "id": "a997659c",
   "metadata": {},
   "outputs": [],
   "source": [
    "class ConfigurationManager:\n",
    "    def __init__(\n",
    "        self,\n",
    "        config_filepath = CONFIG_FILE_PATH,\n",
    "        params_filepath = PARAMS_FILE_PATH):\n",
    "\n",
    "        self.config = read_yaml(config_filepath)\n",
    "        self.params = read_yaml(params_filepath)\n",
    "\n",
    "        create_directories([self.config.artifacts_root])\n",
    "\n",
    "\n",
    "    \n",
    "    def get_data_ingestion_config(self) -> DataIngestionConfig:\n",
    "        config = self.config.data_ingestion\n",
    "\n",
    "        create_directories([config.root_dir])\n",
    "\n",
    "        data_ingestion_config = DataIngestionConfig(\n",
    "            root_dir=config.root_dir,\n",
    "            source_URL=config.source_URL,\n",
    "            local_data_file=config.local_data_file,\n",
    "            unzip_dir=config.unzip_dir \n",
    "        )\n",
    "\n",
    "        return data_ingestion_config"
   ]
  },
  {
   "cell_type": "code",
   "execution_count": 12,
   "id": "44729e26",
   "metadata": {},
   "outputs": [],
   "source": [
    "import os\n",
    "import urllib.request as request\n",
    "import zipfile\n",
    "from cnnClassifier import logger\n",
    "from cnnClassifier.utils.common import get_size"
   ]
  },
  {
   "cell_type": "code",
   "execution_count": 13,
   "id": "5446b4b7",
   "metadata": {},
   "outputs": [],
   "source": [
    "class DataIngestion:\n",
    "    def __init__(self, config: DataIngestionConfig):\n",
    "        self.config = config\n",
    "\n",
    "\n",
    "    \n",
    "    def download_file(self):\n",
    "        if not os.path.exists(self.config.local_data_file):\n",
    "            filename, headers = request.urlretrieve(\n",
    "                url = self.config.source_URL,\n",
    "                filename = self.config.local_data_file\n",
    "            )\n",
    "            logger.info(f\"{filename} download! with following info: \\n{headers}\")\n",
    "        else:\n",
    "            logger.info(f\"File already exists of size: {get_size(Path(self.config.local_data_file))}\")  \n",
    "\n",
    "\n",
    "    \n",
    "    def extract_zip_file(self):\n",
    "        \"\"\"\n",
    "        zip_file_path: str\n",
    "        Extracts the zip file into the data directory\n",
    "        Function returns None\n",
    "        \"\"\"\n",
    "        unzip_path = self.config.unzip_dir\n",
    "        os.makedirs(unzip_path, exist_ok=True)\n",
    "        with zipfile.ZipFile(self.config.local_data_file, 'r') as zip_ref:\n",
    "            zip_ref.extractall(unzip_path)"
   ]
  },
  {
   "cell_type": "code",
   "execution_count": 14,
   "id": "e729e406",
   "metadata": {},
   "outputs": [
    {
     "name": "stdout",
     "output_type": "stream",
     "text": [
      "[2025-10-28 16:07:30,120: INFO: common: yaml file: config\\config.yaml loaded successfully]\n",
      "[2025-10-28 16:07:30,139: INFO: common: yaml file: params.yaml loaded successfully]\n",
      "[2025-10-28 16:07:30,148: INFO: common: created directory at: artifacts]\n",
      "[2025-10-28 16:07:30,160: INFO: common: created directory at: artifacts/data_ingestion]\n",
      "[2025-10-28 16:09:09,425: INFO: 4037744573: artifacts/data_ingestion/data.zip download! with following info: \n",
      "Connection: close\n",
      "Content-Length: 11616915\n",
      "Cache-Control: max-age=300\n",
      "Content-Security-Policy: default-src 'none'; style-src 'unsafe-inline'; sandbox\n",
      "Content-Type: application/zip\n",
      "ETag: \"4cd009b270dbe5feb321e7ec3aa9aa1f0d407ca867b6d81cc0f441e365b8d7e9\"\n",
      "Strict-Transport-Security: max-age=31536000\n",
      "X-Content-Type-Options: nosniff\n",
      "X-Frame-Options: deny\n",
      "X-XSS-Protection: 1; mode=block\n",
      "X-GitHub-Request-Id: 18C2:10DF48:1B7E8AA:1F129E6:6901E6C8\n",
      "Accept-Ranges: bytes\n",
      "Date: Wed, 29 Oct 2025 10:05:00 GMT\n",
      "Via: 1.1 varnish\n",
      "X-Served-By: cache-fjr990031-FJR\n",
      "X-Cache: MISS\n",
      "X-Cache-Hits: 0\n",
      "X-Timer: S1761732297.634553,VS0,VE4274\n",
      "Vary: Authorization,Accept-Encoding\n",
      "Access-Control-Allow-Origin: *\n",
      "Cross-Origin-Resource-Policy: cross-origin\n",
      "X-Fastly-Request-ID: 7d50fb563b599206c264c23d00b08f3c50343b5b\n",
      "Expires: Wed, 29 Oct 2025 10:10:00 GMT\n",
      "Source-Age: 4\n",
      "\n",
      "]\n"
     ]
    }
   ],
   "source": [
    "try:\n",
    "    config = ConfigurationManager()\n",
    "    data_ingestion_config = config.get_data_ingestion_config()\n",
    "    data_ingestion = DataIngestion(config=data_ingestion_config)\n",
    "    data_ingestion.download_file()\n",
    "    data_ingestion.extract_zip_file()\n",
    "except Exception as e:\n",
    "    raise e"
   ]
  },
  {
   "cell_type": "code",
   "execution_count": null,
   "id": "91a40220",
   "metadata": {},
   "outputs": [],
   "source": []
  },
  {
   "cell_type": "code",
   "execution_count": 15,
   "id": "fc90a7e9",
   "metadata": {},
   "outputs": [
    {
     "name": "stdout",
     "output_type": "stream",
     "text": [
      "C:\\Users\\PAK\\Data Science Projects\\Chicken-Disease-Classification---Project\n"
     ]
    }
   ],
   "source": [
    "print(os.getcwd())"
   ]
  },
  {
   "cell_type": "code",
   "execution_count": null,
   "id": "1dffd8de",
   "metadata": {},
   "outputs": [],
   "source": []
  }
 ],
 "metadata": {
  "kernelspec": {
   "display_name": "chicken",
   "language": "python",
   "name": "python3"
  },
  "language_info": {
   "codemirror_mode": {
    "name": "ipython",
    "version": 3
   },
   "file_extension": ".py",
   "mimetype": "text/x-python",
   "name": "python",
   "nbconvert_exporter": "python",
   "pygments_lexer": "ipython3",
   "version": "3.10.0"
  }
 },
 "nbformat": 4,
 "nbformat_minor": 5
}
